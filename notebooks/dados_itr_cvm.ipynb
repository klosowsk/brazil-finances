{
 "cells": [
  {
   "cell_type": "markdown",
   "id": "d5d4b3b5",
   "metadata": {},
   "source": [
    "#### Formulário de Informações Trimestrais (ITR)\n",
    "\n",
    "O FORMULÁRIO DE INFORMAÇÕES TRIMESTRAIS (ITR) é um documento eletrônico, de encaminhamento periódico previsto no artigo 21, inciso V, da Instrução CVM nº 480/09, cujo encaminhamento à CVM deve se dar por meio do Sistema Empresas.NET.\n",
    "\n",
    "Segundo o artigo 29 da Instrução CVM nº 480/09, o formulário ITR deverá ser preenchido com os dados das informações contábeis trimestrais elaboradas de acordo com as regras contábeis aplicáveis ao emissor, nos termos dos artigos 25 a 27 da Instrução.\n",
    "\n",
    "O conjunto de dados disponibiliza as seguintes demonstrações financeiras entregues nos últimos cinco anos:\n",
    "\n",
    "* Balanço Patrimonial Ativo (BPA)\n",
    "* Balanço Patrimonial Passivo (BPP)\n",
    "* Demonstração de Fluxo de Caixa - Método Direto (DFC-MD)\n",
    "* Demonstração de Fluxo de Caixa - Método Indireto (DFC-MI)\n",
    "* Demonstração das Mutações do Patrimônio Líquido (DMPL)\n",
    "* Demonstração de Resultado (DRE)\n",
    "* Demonstração de Valor Adicionado (DVA)\n",
    "\n",
    "Nessas demonstrações, são incluídas as linhas referentes aos elencos de contas fixas e não fixas."
   ]
  },
  {
   "cell_type": "code",
   "execution_count": 1,
   "id": "a061e019",
   "metadata": {},
   "outputs": [],
   "source": [
    "%load_ext autoreload\n",
    "%autoreload 2\n",
    "\n",
    "# Add project root folder to module loading paths.\n",
    "import sys\n",
    "sys.path.append('..')"
   ]
  },
  {
   "cell_type": "code",
   "execution_count": 2,
   "id": "c024fcfa",
   "metadata": {},
   "outputs": [],
   "source": [
    "import pandas as pd\n",
    "import wget\n",
    "from zipfile import ZipFile\n",
    "from pathlib import Path\n",
    "\n",
    "from src.utils import remake_folder "
   ]
  },
  {
   "cell_type": "markdown",
   "id": "1f5b5048",
   "metadata": {},
   "source": [
    "### Download de arquivos da CVM\n",
    "\n",
    "Endereços de downlaod dos dados da CVM"
   ]
  },
  {
   "cell_type": "code",
   "execution_count": 3,
   "id": "82012468",
   "metadata": {},
   "outputs": [],
   "source": [
    "CVM_URL = 'http://dados.cvm.gov.br/dados/CIA_ABERTA/DOC/'\n",
    "CVM_ITR_URL = CVM_URL + 'ITR/DADOS/'"
   ]
  },
  {
   "cell_type": "code",
   "execution_count": 4,
   "id": "115d854e",
   "metadata": {},
   "outputs": [],
   "source": [
    "LOCAL_PATH_CVM_ITR = '../data/cvm/itr'\n",
    "LOCAL_PATH_CVM_ITR_FILES_DOWNLOAD = '../data/cvm/itr/download'\n",
    "LOCAL_PATH_CVM_ITR_FILES_ARQUIVOS = '../data/cvm/itr/arquivos'\n",
    "\n",
    "INITIAL_YEAR = 2011\n",
    "FINAL_YEAR = 2020"
   ]
  },
  {
   "cell_type": "code",
   "execution_count": 5,
   "id": "e4e37654",
   "metadata": {},
   "outputs": [
    {
     "data": {
      "text/plain": [
       "['itr_cia_aberta_2011.zip',\n",
       " 'itr_cia_aberta_2012.zip',\n",
       " 'itr_cia_aberta_2013.zip',\n",
       " 'itr_cia_aberta_2014.zip',\n",
       " 'itr_cia_aberta_2015.zip',\n",
       " 'itr_cia_aberta_2016.zip',\n",
       " 'itr_cia_aberta_2017.zip',\n",
       " 'itr_cia_aberta_2018.zip',\n",
       " 'itr_cia_aberta_2019.zip',\n",
       " 'itr_cia_aberta_2020.zip']"
      ]
     },
     "execution_count": 5,
     "metadata": {},
     "output_type": "execute_result"
    }
   ],
   "source": [
    "cvm_itr_zip_files = []\n",
    "for year in range(INITIAL_YEAR, FINAL_YEAR + 1):\n",
    "    file_name = 'itr_cia_aberta_' + str(year) + '.zip'\n",
    "    cvm_itr_zip_files.append(file_name) \n",
    "\n",
    "cvm_itr_zip_files"
   ]
  },
  {
   "cell_type": "code",
   "execution_count": 6,
   "id": "7cf956da",
   "metadata": {},
   "outputs": [
    {
     "name": "stdout",
     "output_type": "stream",
     "text": [
      "\n",
      "Baixando de: http://dados.cvm.gov.br/dados/CIA_ABERTA/DOC/ITR/DADOS/itr_cia_aberta_2011.zip\n",
      "100% [........................................................................] 23353607 / 23353607\n",
      "Baixando de: http://dados.cvm.gov.br/dados/CIA_ABERTA/DOC/ITR/DADOS/itr_cia_aberta_2012.zip\n",
      "100% [........................................................................] 23297831 / 23297831\n",
      "Baixando de: http://dados.cvm.gov.br/dados/CIA_ABERTA/DOC/ITR/DADOS/itr_cia_aberta_2013.zip\n",
      "100% [........................................................................] 23181637 / 23181637\n",
      "Baixando de: http://dados.cvm.gov.br/dados/CIA_ABERTA/DOC/ITR/DADOS/itr_cia_aberta_2014.zip\n",
      "100% [........................................................................] 23179498 / 23179498\n",
      "Baixando de: http://dados.cvm.gov.br/dados/CIA_ABERTA/DOC/ITR/DADOS/itr_cia_aberta_2015.zip\n",
      "100% [........................................................................] 23061888 / 23061888\n",
      "Baixando de: http://dados.cvm.gov.br/dados/CIA_ABERTA/DOC/ITR/DADOS/itr_cia_aberta_2016.zip\n",
      "100% [........................................................................] 22571153 / 22571153\n",
      "Baixando de: http://dados.cvm.gov.br/dados/CIA_ABERTA/DOC/ITR/DADOS/itr_cia_aberta_2017.zip\n",
      "100% [........................................................................] 22806141 / 22806141\n",
      "Baixando de: http://dados.cvm.gov.br/dados/CIA_ABERTA/DOC/ITR/DADOS/itr_cia_aberta_2018.zip\n",
      "100% [........................................................................] 21970668 / 21970668\n",
      "Baixando de: http://dados.cvm.gov.br/dados/CIA_ABERTA/DOC/ITR/DADOS/itr_cia_aberta_2019.zip\n",
      "100% [........................................................................] 22942649 / 22942649\n",
      "Baixando de: http://dados.cvm.gov.br/dados/CIA_ABERTA/DOC/ITR/DADOS/itr_cia_aberta_2020.zip\n",
      "100% [........................................................................] 25642168 / 25642168"
     ]
    }
   ],
   "source": [
    "remake_folder(LOCAL_PATH_CVM_ITR_FILES_DOWNLOAD)\n",
    "\n",
    "for file in cvm_itr_zip_files:\n",
    "    download_file_url = CVM_ITR_URL + file\n",
    "    print('\\nBaixando de: ' + download_file_url)\n",
    "    wget.download(download_file_url, LOCAL_PATH_CVM_ITR_FILES_DOWNLOAD )"
   ]
  },
  {
   "cell_type": "code",
   "execution_count": 7,
   "id": "93134a31",
   "metadata": {},
   "outputs": [],
   "source": [
    "remake_folder(LOCAL_PATH_CVM_ITR_FILES_ARQUIVOS)\n",
    "for file in cvm_itr_zip_files:\n",
    "    path = LOCAL_PATH_CVM_ITR_FILES_DOWNLOAD + '/' + file\n",
    "    ZipFile(path).extractall(LOCAL_PATH_CVM_ITR_FILES_ARQUIVOS)"
   ]
  },
  {
   "cell_type": "markdown",
   "id": "0ad4d353",
   "metadata": {},
   "source": [
    "A princípio, serão consideradas apenas as visões consolidadas dos demonstrativos:\n",
    "\n",
    "> Se você quer ter uma visão do todo, incluindo a participação nas subsidiárias, busque estudar as demonstrações consolidadas.\n",
    "> Se você quer ter uma visão apenas da “empresa mãe”, veja a as individuais.\n",
    "> \n",
    "> https://respostas.suno.com.br/pergunta/consolidado-ou-individual/\n"
   ]
  },
  {
   "cell_type": "code",
   "execution_count": 8,
   "id": "488c1ea1",
   "metadata": {},
   "outputs": [
    {
     "name": "stdout",
     "output_type": "stream",
     "text": [
      "Reading file /itr_cia_aberta_BPA_con_2011.csv ...\n",
      "Reading file /itr_cia_aberta_BPP_con_2011.csv ...\n",
      "Reading file /itr_cia_aberta_DFC_MD_con_2011.csv ...\n",
      "Reading file /itr_cia_aberta_DFC_MI_con_2011.csv ...\n",
      "Reading file /itr_cia_aberta_DMPL_con_2011.csv ...\n",
      "Reading file /itr_cia_aberta_DRE_con_2011.csv ...\n",
      "Reading file /itr_cia_aberta_DVA_con_2011.csv ...\n",
      "Reading file /itr_cia_aberta_BPA_con_2012.csv ...\n",
      "Reading file /itr_cia_aberta_BPP_con_2012.csv ...\n",
      "Reading file /itr_cia_aberta_DFC_MD_con_2012.csv ...\n",
      "Reading file /itr_cia_aberta_DFC_MI_con_2012.csv ...\n",
      "Reading file /itr_cia_aberta_DMPL_con_2012.csv ...\n",
      "Reading file /itr_cia_aberta_DRE_con_2012.csv ...\n",
      "Reading file /itr_cia_aberta_DVA_con_2012.csv ...\n",
      "Reading file /itr_cia_aberta_BPA_con_2013.csv ...\n",
      "Reading file /itr_cia_aberta_BPP_con_2013.csv ...\n",
      "Reading file /itr_cia_aberta_DFC_MD_con_2013.csv ...\n",
      "Reading file /itr_cia_aberta_DFC_MI_con_2013.csv ...\n",
      "Reading file /itr_cia_aberta_DMPL_con_2013.csv ...\n",
      "Reading file /itr_cia_aberta_DRE_con_2013.csv ...\n",
      "Reading file /itr_cia_aberta_DVA_con_2013.csv ...\n",
      "Reading file /itr_cia_aberta_BPA_con_2014.csv ...\n",
      "Reading file /itr_cia_aberta_BPP_con_2014.csv ...\n",
      "Reading file /itr_cia_aberta_DFC_MD_con_2014.csv ...\n",
      "Reading file /itr_cia_aberta_DFC_MI_con_2014.csv ...\n",
      "Reading file /itr_cia_aberta_DMPL_con_2014.csv ...\n",
      "Reading file /itr_cia_aberta_DRE_con_2014.csv ...\n",
      "Reading file /itr_cia_aberta_DVA_con_2014.csv ...\n",
      "Reading file /itr_cia_aberta_BPA_con_2015.csv ...\n",
      "Reading file /itr_cia_aberta_BPP_con_2015.csv ...\n",
      "Reading file /itr_cia_aberta_DFC_MD_con_2015.csv ...\n",
      "Reading file /itr_cia_aberta_DFC_MI_con_2015.csv ...\n",
      "Reading file /itr_cia_aberta_DMPL_con_2015.csv ...\n",
      "Reading file /itr_cia_aberta_DRE_con_2015.csv ...\n",
      "Reading file /itr_cia_aberta_DVA_con_2015.csv ...\n",
      "Reading file /itr_cia_aberta_BPA_con_2016.csv ...\n",
      "Reading file /itr_cia_aberta_BPP_con_2016.csv ...\n",
      "Reading file /itr_cia_aberta_DFC_MD_con_2016.csv ...\n",
      "Reading file /itr_cia_aberta_DFC_MI_con_2016.csv ...\n",
      "Reading file /itr_cia_aberta_DMPL_con_2016.csv ...\n",
      "Reading file /itr_cia_aberta_DRE_con_2016.csv ...\n",
      "Reading file /itr_cia_aberta_DVA_con_2016.csv ...\n",
      "Reading file /itr_cia_aberta_BPA_con_2017.csv ...\n",
      "Reading file /itr_cia_aberta_BPP_con_2017.csv ...\n",
      "Reading file /itr_cia_aberta_DFC_MD_con_2017.csv ...\n",
      "Reading file /itr_cia_aberta_DFC_MI_con_2017.csv ...\n",
      "Reading file /itr_cia_aberta_DMPL_con_2017.csv ...\n",
      "Reading file /itr_cia_aberta_DRE_con_2017.csv ...\n",
      "Reading file /itr_cia_aberta_DVA_con_2017.csv ...\n",
      "Reading file /itr_cia_aberta_BPA_con_2018.csv ...\n",
      "Reading file /itr_cia_aberta_BPP_con_2018.csv ...\n",
      "Reading file /itr_cia_aberta_DFC_MD_con_2018.csv ...\n",
      "Reading file /itr_cia_aberta_DFC_MI_con_2018.csv ...\n",
      "Reading file /itr_cia_aberta_DMPL_con_2018.csv ...\n",
      "Reading file /itr_cia_aberta_DRE_con_2018.csv ...\n",
      "Reading file /itr_cia_aberta_DVA_con_2018.csv ...\n",
      "Reading file /itr_cia_aberta_BPA_con_2019.csv ...\n",
      "Reading file /itr_cia_aberta_BPP_con_2019.csv ...\n",
      "Reading file /itr_cia_aberta_DFC_MD_con_2019.csv ...\n",
      "Reading file /itr_cia_aberta_DFC_MI_con_2019.csv ...\n",
      "Reading file /itr_cia_aberta_DMPL_con_2019.csv ...\n",
      "Reading file /itr_cia_aberta_DRE_con_2019.csv ...\n",
      "Reading file /itr_cia_aberta_DVA_con_2019.csv ...\n",
      "Reading file /itr_cia_aberta_BPA_con_2020.csv ...\n",
      "Reading file /itr_cia_aberta_BPP_con_2020.csv ...\n",
      "Reading file /itr_cia_aberta_DFC_MD_con_2020.csv ...\n",
      "Reading file /itr_cia_aberta_DFC_MI_con_2020.csv ...\n",
      "Reading file /itr_cia_aberta_DMPL_con_2020.csv ...\n",
      "Reading file /itr_cia_aberta_DRE_con_2020.csv ...\n",
      "Reading file /itr_cia_aberta_DVA_con_2020.csv ...\n"
     ]
    }
   ],
   "source": [
    "dicionario = [\n",
    "    #'_',\n",
    "    '_BPA_con_',\n",
    "    #'_BPA_ind_',\n",
    "    '_BPP_con_',\n",
    "    #'_BPP_ind_',\n",
    "    '_DFC_MD_con_',\n",
    "    #'_DFC_MD_ind_',\n",
    "    '_DFC_MI_con_',\n",
    "    #'_DFC_MI_ind_',\n",
    "    '_DMPL_con_',\n",
    "    #'_DMPL_ind_',\n",
    "    '_DRE_con_',\n",
    "    #'_DRE_ind_',\n",
    "    '_DVA_con_',\n",
    "    #'_DVA_ind_',\n",
    "]\n",
    "\n",
    "itr_df = pd.DataFrame()\n",
    "for year in range(INITIAL_YEAR, FINAL_YEAR + 1):\n",
    "    for key in dicionario:\n",
    "        print( f'Reading file /itr_cia_aberta{key}{year}.csv ...')\n",
    "        itr_df = pd.concat([itr_df, pd.read_csv(LOCAL_PATH_CVM_ITR_FILES_ARQUIVOS + f'/itr_cia_aberta{key}{year}.csv', sep=';', decimal=',', encoding='ISO-8859-1')])\n",
    "\n",
    "#dfp_df"
   ]
  },
  {
   "cell_type": "code",
   "execution_count": 9,
   "id": "136f0743",
   "metadata": {},
   "outputs": [],
   "source": [
    "itr_df.to_csv(f'{LOCAL_PATH_CVM_ITR}/itr_consolidado_{INITIAL_YEAR}_{FINAL_YEAR}.csv', index=False)"
   ]
  },
  {
   "cell_type": "code",
   "execution_count": null,
   "id": "611d5af8",
   "metadata": {},
   "outputs": [],
   "source": []
  },
  {
   "cell_type": "code",
   "execution_count": null,
   "id": "5f5d3bd2",
   "metadata": {},
   "outputs": [],
   "source": []
  },
  {
   "cell_type": "code",
   "execution_count": null,
   "id": "6a852fb1",
   "metadata": {},
   "outputs": [],
   "source": []
  },
  {
   "cell_type": "code",
   "execution_count": null,
   "id": "74e4918c",
   "metadata": {},
   "outputs": [],
   "source": []
  },
  {
   "cell_type": "code",
   "execution_count": null,
   "id": "f1e21ac0",
   "metadata": {},
   "outputs": [],
   "source": []
  }
 ],
 "metadata": {
  "kernelspec": {
   "display_name": "Python 3",
   "language": "python",
   "name": "python3"
  },
  "language_info": {
   "codemirror_mode": {
    "name": "ipython",
    "version": 3
   },
   "file_extension": ".py",
   "mimetype": "text/x-python",
   "name": "python",
   "nbconvert_exporter": "python",
   "pygments_lexer": "ipython3",
   "version": "3.8.5"
  }
 },
 "nbformat": 4,
 "nbformat_minor": 5
}
